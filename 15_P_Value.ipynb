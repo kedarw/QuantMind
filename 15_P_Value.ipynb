{
 "cells": [
  {
   "cell_type": "markdown",
   "id": "aa003389",
   "metadata": {},
   "source": [
    "**What is a P-value?**\n",
    "Imagine you have a magic coin that you think always lands on heads. You flip it 10 times, and it lands on heads 9 times. Is your coin really magic, or did you just get lucky?\n",
    "\n",
    "A P-value helps you answer that question. It's a number that tells you the probability of seeing a result as extreme as the one you got, if your initial belief was wrong.\n",
    "\n",
    "**Btw P-Value is also called Chi Value**\n",
    "\n",
    "\n",
    "**Our belief:** The coin is not special. It's a normal coin with a 50/50 chance of heads or tails.\n",
    "\n",
    "**Our result:** We got 9 heads out of 10 flips.\n",
    "\n",
    "The P-value would be the chance of getting 9 or more heads in 10 flips with a regular, non-magical coin.\n",
    "\n",
    "If the P-value is small (like 0.01 or 1%), it means that your result (9 heads) is very unlikely to happen with a normal coin. So, you might conclude that your belief was wrong, and the coin might be special.\n",
    "\n",
    "If the P-value is large (like 0.30 or 30%), it means that your result isn't that surprising. A normal coin could easily get that result. So, you wouldn't reject your original belief.\n",
    "\n",
    "**In simple terms, a P-value is a way to tell if your results are due to a real effect or just a fluke.**\n",
    "\n"
   ]
  },
  {
   "cell_type": "code",
   "execution_count": null,
   "id": "a4cf85cd",
   "metadata": {
    "vscode": {
     "languageId": "plaintext"
    }
   },
   "outputs": [],
   "source": [
    "import pandas as pd\n",
    "import statsmodels.api as sm\n",
    "\n",
    "# Create a sample dataset for daily temperature and ice cream sales\n",
    "data = {'temperature': [20, 25, 22, 28, 30, 26, 31, 29, 24, 27],\n",
    "        'ice_cream_sales': [100, 150, 120, 180, 200, 160, 210, 190, 140, 170]}\n",
    "df = pd.DataFrame(data)\n",
    "\n",
    "# Our independent variable (what we're testing)\n",
    "X = df['temperature']\n",
    "# Our dependent variable (what we're trying to predict)\n",
    "y = df['ice_cream_sales']\n",
    "\n",
    "# Add a constant to the independent variable (required for statsmodels)\n",
    "X = sm.add_constant(X)\n",
    "\n",
    "# Build a linear regression model\n",
    "model = sm.OLS(y, X).fit()\n",
    "\n",
    "# Print the summary of the model\n",
    "print(model.summary())\n",
    "\n",
    "# Look at the output. In the table, find the row for 'temperature'.\n",
    "# The 'P>|t|' column shows the p-value.\n",
    "# You will likely see a very small number, like 0.000.\n",
    "# This means the chance of seeing such a strong relationship between temperature and sales by pure luck is almost zero.\n",
    "# Therefore, we can be confident that temperature has a real effect on ice cream sales."
   ]
  },
  {
   "cell_type": "markdown",
   "id": "d98aecec",
   "metadata": {},
   "source": [
    "**Assignment 1: Temperature vs. Sales**\n",
    "Goal: Understand how a variable's relevance affects the P-value.\n",
    "\n",
    "Run the provided Python example. Find the P-value for the temperature variable in the output. What does this number tell you about the relationship between temperature and ice cream sales?\n",
    "\n",
    "**Change the data:** In the data dictionary, replace the temperature list with random numbers that have no clear relationship to the ice_cream_sales. For example, use a completely different set of numbers like [45, 10, 32, 6, 50, 21, 15, 40, 5, 29].\n",
    "\n",
    "**Run the code again:** Re-run the script with the new data. What is the P-value for the temperature variable now?\n",
    "\n",
    "**Explain:** Why did the P-value increase so much? What does the new, higher number mean in the context of our ice cream sales model?\n",
    "\n"
   ]
  },
  {
   "cell_type": "code",
   "execution_count": null,
   "id": "c3e1510c",
   "metadata": {
    "vscode": {
     "languageId": "plaintext"
    }
   },
   "outputs": [],
   "source": [
    "# Your code here"
   ]
  },
  {
   "cell_type": "markdown",
   "id": "16576fd4",
   "metadata": {},
   "source": [
    "**Assignment 2: Real-World Dataset Analysis**\n",
    "Goal: Apply the concept of P-value to a real-world dataset.\n",
    "\n",
    "**Find a dataset:** Find a simple dataset online (e.g., from Kaggle or UCI Machine Learning Repository). Good choices are the Boston Housing dataset or the California Housing dataset.\n",
    "\n",
    "**Choose variables:** Select a dependent variable you want to predict (e.g., house_price). Then, choose at least two independent variables that you think will be good predictors (e.g., number_of_bedrooms, crime_rate).\n",
    "\n",
    "**Run the analysis:** Use statsmodels as shown in the example to build a model that predicts house prices using your chosen variables.\n",
    "\n",
    "**Analyze the P-values:** Look at the P-value for each of your independent variables. Which variable has a smaller P-value? What does that tell you about its relationship with house prices compared to the other variable?"
   ]
  },
  {
   "cell_type": "markdown",
   "id": "7140b67d",
   "metadata": {},
   "source": []
  },
  {
   "cell_type": "code",
   "execution_count": null,
   "id": "af9d08ba",
   "metadata": {
    "vscode": {
     "languageId": "plaintext"
    }
   },
   "outputs": [],
   "source": [
    "# Your code here"
   ]
  },
  {
   "cell_type": "markdown",
   "id": "cffde3bf",
   "metadata": {},
   "source": [
    "**Assignment 3: The Importance of Sample Size**\n",
    "Goal: Understand how the number of data points affects the P-value.\n",
    "\n",
    "**Create a small dataset:** Make a pandas DataFrame with only 5 rows. Use temperature and ice_cream_sales data that have a clear, positive relationship.\n",
    "\n",
    "**Run the analysis:** Use statsmodels to find the P-value. Note this value.\n",
    "\n",
    "**Create a large dataset:** Now, create a new DataFrame with 50 rows. Continue the same positive relationship between temperature and ice_cream_sales.\n",
    "\n",
    "**Run the analysis again:** Find the P-value for this larger dataset.\n",
    "\n",
    "**Compare and Explain:** Is the P-value smaller for the larger dataset? Why do you think that happens? Explain how having more data makes you more confident that your results are not just a random coincidence."
   ]
  },
  {
   "cell_type": "code",
   "execution_count": null,
   "id": "6ff8c5e0",
   "metadata": {
    "vscode": {
     "languageId": "plaintext"
    }
   },
   "outputs": [],
   "source": [
    "# Your code here"
   ]
  }
 ],
 "metadata": {
  "kernelspec": {
   "display_name": "Python 3 (ipykernel)",
   "language": "python",
   "name": "python3"
  },
  "language_info": {
   "codemirror_mode": {
    "name": "ipython",
    "version": 3
   },
   "file_extension": ".py",
   "mimetype": "text/x-python",
   "name": "python",
   "nbconvert_exporter": "python",
   "pygments_lexer": "ipython3",
   "version": "3.8.18"
  }
 },
 "nbformat": 4,
 "nbformat_minor": 5
}
