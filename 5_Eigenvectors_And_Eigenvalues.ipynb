{
  "cells": [
    {
      "cell_type": "code",
      "execution_count": null,
      "id": "aefbdab9",
      "metadata": {
        "id": "aefbdab9",
        "outputId": "a253d12a-624a-445f-8327-9f2de6d0b5e9"
      },
      "outputs": [
        {
          "data": {
            "text/plain": [
              "'\\nImagine you have a magic arrow (vector) that, when you transform it (using a matrix), \\nonly gets longer or shorter but doesn’t change direction. This special arrow is called an eigenvector, \\nand the factor by which it’s stretched or shrunk is the eigenvalue. \\nFor example, if you stretch a rubber band by a factor of 2, \\nthe direction of the band is the eigenvector, and 2 is the eigenvalue.\\n'"
            ]
          },
          "execution_count": 1,
          "metadata": {},
          "output_type": "execute_result"
        }
      ],
      "source": [
        "T\"\"\"\n",
        "Imagine you have a magic arrow (vector) that, when you transform it (using a matrix),\n",
        "only gets longer or shorter but doesn’t change direction. This special arrow is called an eigenvector,\n",
        "and the factor by which it’s stretched or shrunk is the eigenvalue.\n",
        "For example, if you stretch a rubber band by a factor of 2,\n",
        "the direction of the band is the eigenvector, and 2 is the eigenvalue.\n",
        "\"\"\""
      ]
    },
    {
      "cell_type": "code",
      "execution_count": 1,
      "id": "f4822a2f",
      "metadata": {
        "id": "f4822a2f",
        "outputId": "9b018e41-f07e-438b-9bda-0515e9c83576",
        "colab": {
          "base_uri": "https://localhost:8080/"
        }
      },
      "outputs": [
        {
          "output_type": "stream",
          "name": "stdout",
          "text": [
            "Matrix A:\n",
            "[[5 2]\n",
            " [2 5]]\n",
            "\n",
            "Eigenvalues: [7. 3.]\n",
            "Eigenvectors (as columns):\n",
            "[[ 0.70710678 -0.70710678]\n",
            " [ 0.70710678  0.70710678]]\n",
            "\n",
            "Testing A * eigenvector == eigenvalue * eigenvector:\n",
            "A * eigenvector: [4.94974747 4.94974747]\n",
            "eigenvalue * eigenvector: [4.94974747 4.94974747]\n"
          ]
        }
      ],
      "source": [
        "import numpy as np\n",
        "\n",
        "# Define a matrix (transformation)\n",
        "A = np.array([[5, 2],\n",
        "              [2, 5]])\n",
        "\n",
        "# Compute eigenvalues and eigenvectors\n",
        "eigenvalues, eigenvectors = np.linalg.eig(A)\n",
        "\n",
        "print(\"Matrix A:\")\n",
        "print(A)\n",
        "print(\"\\nEigenvalues:\", eigenvalues)\n",
        "print(\"Eigenvectors (as columns):\")\n",
        "print(eigenvectors)\n",
        "\n",
        "# Test the eigenvector/eigenvalue property: A * eigenvector = eigenvalue * eigenvector\n",
        "first_eigenvector = eigenvectors[:, 0]  # First column is the first eigenvector\n",
        "first_eigenvalue = eigenvalues[0]\n",
        "\n",
        "# Multiply A with the first eigenvector\n",
        "result_left = np.dot(A, first_eigenvector)\n",
        "# Multiply eigenvalue with the first eigenvector\n",
        "result_right = first_eigenvalue * first_eigenvector\n",
        "\n",
        "print(\"\\nTesting A * eigenvector == eigenvalue * eigenvector:\")\n",
        "print(\"A * eigenvector:\", result_left)\n",
        "print(\"eigenvalue * eigenvector:\", result_right)"
      ]
    },
    {
      "cell_type": "code",
      "execution_count": null,
      "id": "33c56082",
      "metadata": {
        "id": "33c56082",
        "outputId": "34c4cae7-4175-4588-fb98-75fc5c96b36f"
      },
      "outputs": [
        {
          "data": {
            "text/plain": [
              "'\\nSo you can see,\\n\\nThe matrix A transforms space.\\n\\nThe eigenvectors (columns of eigenvectors) are directions that don’t change when A is applied.\\n\\nThe eigenvalues (scalars) tell you how much each eigenvector is stretched.\\n'"
            ]
          },
          "execution_count": 4,
          "metadata": {},
          "output_type": "execute_result"
        }
      ],
      "source": [
        "\"\"\"\n",
        "So you can see,\n",
        "\n",
        "The matrix A transforms space.\n",
        "\n",
        "The eigenvectors (columns of eigenvectors) are directions that don’t change when A is applied.\n",
        "\n",
        "The eigenvalues (scalars) tell you how much each eigenvector is stretched.\n",
        "\"\"\""
      ]
    },
    {
      "cell_type": "code",
      "execution_count": null,
      "id": "b5f17dfb",
      "metadata": {
        "id": "b5f17dfb",
        "outputId": "974f51cd-327c-4f4d-ef7d-fe3c0bc452c9"
      },
      "outputs": [
        {
          "data": {
            "text/plain": [
              "'\\nAssignment for You:\\n\\n1. Modify the Matrix: Change the matrix A to [[3, 1], [1, 3]] and rerun the code. What are the new eigenvalues and eigenvectors?\\n\\n2. Verify Manually: Pick one eigenvector from the result and multiply it by A using pen-and-paper. Check if it equals the eigenvalue times the eigenvector.\\n\\n3. Real-World Connection: Think of a scenario where finding these \"special directions\" (eigenvectors) might be useful (e.g., in computer graphics or physics).\\n\\n'"
            ]
          },
          "execution_count": 5,
          "metadata": {},
          "output_type": "execute_result"
        }
      ],
      "source": [
        "\"\"\"\n",
        "Assignment for You:\n",
        "\n",
        "1. Modify the Matrix: Change the matrix A to [[3, 1], [1, 3]] and rerun the code.\n",
        "What are the new eigenvalues and eigenvectors?\n",
        "\n",
        "2. Verify Manually: Pick one eigenvector from the result and multiply it by A using pen-and-paper.\n",
        "Check if it equals the eigenvalue times the eigenvector.\n",
        "\n",
        "3. Real-World Connection: Think of a scenario where finding these \"special directions\" (eigenvectors)\n",
        "might be useful (e.g., in computer graphics or physics).\n",
        "\n",
        "\"\"\""
      ]
    },
    {
      "cell_type": "code",
      "execution_count": 11,
      "id": "090384b3",
      "metadata": {
        "id": "090384b3",
        "outputId": "2da1c2b0-e6b9-481e-83de-d960fe993c64",
        "colab": {
          "base_uri": "https://localhost:8080/",
          "height": 227
        }
      },
      "outputs": [
        {
          "output_type": "stream",
          "name": "stdout",
          "text": [
            "Matrix A:\n",
            "[[3 1]\n",
            " [1 3]]\n",
            "\n",
            "Eigenvalues: [4. 2.]\n",
            "Eigenvectors:\n",
            "[[ 0.70710678 -0.70710678]\n",
            " [ 0.70710678  0.70710678]]\n",
            "[2.82842712 2.82842712]\n",
            "[2.82842712 2.82842712]\n"
          ]
        },
        {
          "output_type": "execute_result",
          "data": {
            "text/plain": [
              "'\\nPrincipal Component Analysis is a critical dimensionality reduction technique in machine learning that relies on eigenvectors and eigenvalues.\\nPCA is useful in ML because it reduces the complexity of datasets, allowing for faster training with improved model performance.\\n\\nEigenvectors and eigenvalues are the basis of PCA.\\n\\nEigenvectors can help describe the direction of spread to reduce complexity- they are the principal components.\\nEigenvalues can help quanitfy that spread/ variance.\\n'"
            ],
            "application/vnd.google.colaboratory.intrinsic+json": {
              "type": "string"
            }
          },
          "metadata": {},
          "execution_count": 11
        }
      ],
      "source": [
        "import numpy as np\n",
        "\n",
        "A = np.array([[3, 1],\n",
        "              [1, 3]])\n",
        "\n",
        "\n",
        "eigenvalues, eigenvectors = np.linalg.eig(A)\n",
        "\n",
        "print(\"Matrix A:\")\n",
        "print(A)\n",
        "print(\"\\nEigenvalues:\", eigenvalues)\n",
        "print(\"Eigenvectors:\")\n",
        "print(eigenvectors)\n",
        "\n",
        "#Eigenvalues are [4, 2]\n",
        "#Eigenvectors are [[ 0.70710678, -0.70710678], [ 0.70710678, 0.70710678]]\n",
        "\n",
        "eigenvector = eigenvectors[:, 0]\n",
        "eigenvalue = eigenvalues[0]\n",
        "\n",
        "result_one = np.dot(A, first_eigenvector)\n",
        "result_two = eigenvalue * eigenvector\n",
        "\n",
        "#We see that multiplying the eigenvector by A is equal to multiplying the eigenvector with the eigenvalue\n",
        "\n",
        "print(result_one)\n",
        "print(result_two)\n",
        "\n",
        "\n",
        "\"\"\"\n",
        "Principal Component Analysis is a critical dimensionality reduction technique in machine learning that relies on eigenvectors and eigenvalues.\n",
        "PCA is useful in ML because it reduces the complexity of datasets, allowing for faster training with improved model performance.\n",
        "\n",
        "Eigenvectors and eigenvalues are the basis of PCA.\n",
        "\n",
        "Eigenvectors can help describe the direction of spread to reduce complexity- they are the principal components.\n",
        "Eigenvalues can help quanitfy that spread/ variance.\n",
        "\"\"\""
      ]
    }
  ],
  "metadata": {
    "kernelspec": {
      "display_name": "Python 3 (ipykernel)",
      "language": "python",
      "name": "python3"
    },
    "language_info": {
      "codemirror_mode": {
        "name": "ipython",
        "version": 3
      },
      "file_extension": ".py",
      "mimetype": "text/x-python",
      "name": "python",
      "nbconvert_exporter": "python",
      "pygments_lexer": "ipython3",
      "version": "3.8.18"
    },
    "colab": {
      "provenance": []
    }
  },
  "nbformat": 4,
  "nbformat_minor": 5
}