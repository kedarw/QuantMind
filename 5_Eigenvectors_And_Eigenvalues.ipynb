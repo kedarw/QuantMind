{
 "cells": [
  {
   "cell_type": "code",
   "execution_count": 1,
   "id": "aefbdab9",
   "metadata": {},
   "outputs": [
    {
     "data": {
      "text/plain": [
       "'\\nImagine you have a magic arrow (vector) that, when you transform it (using a matrix), \\nonly gets longer or shorter but doesn’t change direction. This special arrow is called an eigenvector, \\nand the factor by which it’s stretched or shrunk is the eigenvalue. \\nFor example, if you stretch a rubber band by a factor of 2, \\nthe direction of the band is the eigenvector, and 2 is the eigenvalue.\\n'"
      ]
     },
     "execution_count": 1,
     "metadata": {},
     "output_type": "execute_result"
    }
   ],
   "source": [
    "\"\"\"\n",
    "Imagine you have a magic arrow (vector) that, when you transform it (using a matrix), \n",
    "only gets longer or shorter but doesn’t change direction. This special arrow is called an eigenvector, \n",
    "and the factor by which it’s stretched or shrunk is the eigenvalue. \n",
    "For example, if you stretch a rubber band by a factor of 2, \n",
    "the direction of the band is the eigenvector, and 2 is the eigenvalue.\n",
    "\"\"\""
   ]
  },
  {
   "cell_type": "code",
   "execution_count": 2,
   "id": "f4822a2f",
   "metadata": {},
   "outputs": [
    {
     "name": "stdout",
     "output_type": "stream",
     "text": [
      "Matrix A:\n",
      "[[5 2]\n",
      " [2 5]]\n",
      "\n",
      "Eigenvalues: [7. 3.]\n",
      "Eigenvectors (as columns):\n",
      "[[ 0.70710678 -0.70710678]\n",
      " [ 0.70710678  0.70710678]]\n",
      "\n",
      "Testing A * eigenvector == eigenvalue * eigenvector:\n",
      "A * eigenvector: [4.94974747 4.94974747]\n",
      "eigenvalue * eigenvector: [4.94974747 4.94974747]\n"
     ]
    }
   ],
   "source": [
    "import numpy as np\n",
    "\n",
    "# Define a matrix (transformation)\n",
    "A = np.array([[5, 2],\n",
    "              [2, 5]])\n",
    "\n",
    "# Compute eigenvalues and eigenvectors\n",
    "eigenvalues, eigenvectors = np.linalg.eig(A)\n",
    "\n",
    "print(\"Matrix A:\")\n",
    "print(A)\n",
    "print(\"\\nEigenvalues:\", eigenvalues)\n",
    "print(\"Eigenvectors (as columns):\")\n",
    "print(eigenvectors)\n",
    "\n",
    "# Test the eigenvector/eigenvalue property: A * eigenvector = eigenvalue * eigenvector\n",
    "first_eigenvector = eigenvectors[:, 0]  # First column is the first eigenvector\n",
    "first_eigenvalue = eigenvalues[0]\n",
    "\n",
    "# Multiply A with the first eigenvector\n",
    "result_left = np.dot(A, first_eigenvector)\n",
    "# Multiply eigenvalue with the first eigenvector\n",
    "result_right = first_eigenvalue * first_eigenvector\n",
    "\n",
    "print(\"\\nTesting A * eigenvector == eigenvalue * eigenvector:\")\n",
    "print(\"A * eigenvector:\", result_left)\n",
    "print(\"eigenvalue * eigenvector:\", result_right)"
   ]
  },
  {
   "cell_type": "code",
   "execution_count": 4,
   "id": "33c56082",
   "metadata": {},
   "outputs": [
    {
     "data": {
      "text/plain": [
       "'\\nSo you can see,\\n\\nThe matrix A transforms space.\\n\\nThe eigenvectors (columns of eigenvectors) are directions that don’t change when A is applied.\\n\\nThe eigenvalues (scalars) tell you how much each eigenvector is stretched.\\n'"
      ]
     },
     "execution_count": 4,
     "metadata": {},
     "output_type": "execute_result"
    }
   ],
   "source": [
    "\"\"\"\n",
    "So you can see,\n",
    "\n",
    "The matrix A transforms space.\n",
    "\n",
    "The eigenvectors (columns of eigenvectors) are directions that don’t change when A is applied.\n",
    "\n",
    "The eigenvalues (scalars) tell you how much each eigenvector is stretched.\n",
    "\"\"\""
   ]
  },
  {
   "cell_type": "code",
   "execution_count": 5,
   "id": "b5f17dfb",
   "metadata": {},
   "outputs": [
    {
     "data": {
      "text/plain": [
       "'\\nAssignment for You:\\n\\n1. Modify the Matrix: Change the matrix A to [[3, 1], [1, 3]] and rerun the code. What are the new eigenvalues and eigenvectors?\\n\\n2. Verify Manually: Pick one eigenvector from the result and multiply it by A using pen-and-paper. Check if it equals the eigenvalue times the eigenvector.\\n\\n3. Real-World Connection: Think of a scenario where finding these \"special directions\" (eigenvectors) might be useful (e.g., in computer graphics or physics).\\n\\n'"
      ]
     },
     "execution_count": 5,
     "metadata": {},
     "output_type": "execute_result"
    }
   ],
   "source": [
    "\"\"\"\n",
    "Assignment for You:\n",
    "\n",
    "1. Modify the Matrix: Change the matrix A to [[3, 1], [1, 3]] and rerun the code. \n",
    "What are the new eigenvalues and eigenvectors?\n",
    "\n",
    "2. Verify Manually: Pick one eigenvector from the result and multiply it by A using pen-and-paper. \n",
    "Check if it equals the eigenvalue times the eigenvector.\n",
    "\n",
    "3. Real-World Connection: Think of a scenario where finding these \"special directions\" (eigenvectors) \n",
    "might be useful (e.g., in computer graphics or physics).\n",
    "\n",
    "\"\"\""
   ]
  },
  {
   "cell_type": "code",
   "execution_count": null,
   "id": "090384b3",
   "metadata": {},
   "outputs": [],
   "source": []
  }
 ],
 "metadata": {
  "kernelspec": {
   "display_name": "Python 3 (ipykernel)",
   "language": "python",
   "name": "python3"
  },
  "language_info": {
   "codemirror_mode": {
    "name": "ipython",
    "version": 3
   },
   "file_extension": ".py",
   "mimetype": "text/x-python",
   "name": "python",
   "nbconvert_exporter": "python",
   "pygments_lexer": "ipython3",
   "version": "3.8.18"
  }
 },
 "nbformat": 4,
 "nbformat_minor": 5
}
