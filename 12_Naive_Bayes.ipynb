{
 "cells": [
  {
   "cell_type": "markdown",
   "id": "2337e549",
   "metadata": {},
   "source": [
    "Imagine you're a high school football coach trying to predict if your team will win a game based on two clues: whether your star player is healthy and whether the weather is good. You’ve tracked past games:\n",
    "\n",
    "- Out of 20 games, you won 10.\n",
    "- In the 10 wins: 8 had a healthy star player, 7 had good weather.\n",
    "- In the 10 losses: 3 had a healthy star player, 4 had good weather.\n",
    "\n",
    "Naive Bayes helps you guess the chance of winning by combining these clues, assuming the star player’s health and weather don’t affect each other. Here’s how:\n",
    "\n",
    "1. **Chance of winning?** You won 10 out of 20 games, so 50%.\n",
    "2. **If you win, how often is the star player healthy?** 8 out of 10 wins, so 80%.\n",
    "3. **If you win, how often is the weather good?** 7 out of 10 wins, so 70%.\n",
    "4. **If you lose, how often is the star player healthy?** 3 out of 10 losses, so 30%.\n",
    "5. **If you lose, how often is the weather good?** 4 out of 10 losses, so 40%.\n",
    "\n",
    "Now, suppose today your star player is healthy, and the weather is good. Naive Bayes multiplies the chances:\n",
    "- For a win: 50% (chance of winning) × 80% (healthy player in wins) × 70% (good weather in wins) = 0.5 × 0.8 × 0.7 = 0.28.\n",
    "- For a loss: 50% (chance of losing) × 30% (healthy player in losses) × 40% (good weather in losses) = 0.5 × 0.3 × 0.4 = 0.06.\n",
    "\n",
    "Since 0.28 (win) is bigger than 0.06 (loss), Naive Bayes predicts you’re more likely to win!\n",
    "\n",
    "It’s like making a quick prediction by combining simple patterns from past games, assuming the clues work independently."
   ]
  },
  {
   "cell_type": "markdown",
   "id": "4821dbd8",
   "metadata": {},
   "source": [
    "*** Naive Bayes is based on independent clues***"
   ]
  },
  {
   "cell_type": "markdown",
   "id": "a289e3ae",
   "metadata": {},
   "source": [
    "*** Independent *** is the key"
   ]
  },
  {
   "cell_type": "markdown",
   "id": "98c5a3f4",
   "metadata": {},
   "source": [
    "Let’s dive into a Python example that uses Naive Bayes to predict whether a high school football team will win a game based on time series data, like their performance over past games. We’ll use simple features: the team’s average points scored in the last 3 games and the opponent’s average points allowed in the last 3 games. Then, I’ll provide three assignments to deepen understanding.\n",
    "\n",
    "Here’s the Python example using scikit-learn’s Gaussian Naive Bayes, assuming we have game data with these features and win/loss outcomes. The code generates synthetic time series data for simplicity, but the concept applies to real data."
   ]
  },
  {
   "cell_type": "code",
   "execution_count": 2,
   "id": "d5426244",
   "metadata": {},
   "outputs": [
    {
     "name": "stdout",
     "output_type": "stream",
     "text": [
      "Model Accuracy: 0.67\n",
      "Predicted outcome (1=win, 0=loss): 1\n"
     ]
    }
   ],
   "source": [
    "import numpy as np\n",
    "from sklearn.naive_bayes import GaussianNB\n",
    "from sklearn.model_selection import train_test_split\n",
    "from sklearn.metrics import accuracy_score\n",
    "\n",
    "# Generate synthetic time series data: 20 games\n",
    "np.random.seed(42)\n",
    "n_games = 20\n",
    "team_points = np.random.normal(24, 5, n_games)  # Team's points scored\n",
    "opponent_points_allowed = np.random.normal(20, 4, n_games)  # Opponent's points allowed\n",
    "wins = np.where((team_points - opponent_points_allowed) > 0, 1, 0)  # Win if team scores more than opponent allows\n",
    "\n",
    "# Create features: average points scored and allowed over last 3 games\n",
    "X = []\n",
    "y = []\n",
    "for i in range(3, n_games):\n",
    "    avg_team_points = np.mean(team_points[i-3:i])\n",
    "    avg_opponent_points_allowed = np.mean(opponent_points_allowed[i-3:i])\n",
    "    X.append([avg_team_points, avg_opponent_points_allowed])\n",
    "    y.append(wins[i])\n",
    "\n",
    "X = np.array(X)\n",
    "y = np.array(y)\n",
    "\n",
    "# Split data into training and testing\n",
    "X_train, X_test, y_train, y_test = train_test_split(X, y, test_size=0.3, random_state=42)\n",
    "\n",
    "# Train Gaussian Naive Bayes model\n",
    "model = GaussianNB()\n",
    "model.fit(X_train, y_train)\n",
    "\n",
    "# Predict and evaluate\n",
    "y_pred = model.predict(X_test)\n",
    "accuracy = accuracy_score(y_test, y_pred)\n",
    "print(f\"Model Accuracy: {accuracy:.2f}\")\n",
    "\n",
    "# Example prediction for a new game\n",
    "new_game = np.array([[25.0, 18.0]])  # Team averaged 25 points, opponent allowed 18\n",
    "prediction = model.predict(new_game)\n",
    "print(f\"Predicted outcome (1=win, 0=loss): {prediction[0]}\")"
   ]
  },
  {
   "cell_type": "markdown",
   "id": "5aebf756",
   "metadata": {},
   "source": [
    "This code:\n",
    "\n",
    "Creates synthetic data for 20 games with team points scored and opponent points allowed.\n",
    "Builds time series features by averaging the last 3 games for both.\n",
    "Trains a Gaussian Naive Bayes model to predict wins (1) or losses (0).\n",
    "Tests the model and makes a prediction for a new game."
   ]
  },
  {
   "cell_type": "markdown",
   "id": "6e3b29cd",
   "metadata": {},
   "source": [
    "**Data Exploration Assignment**:\n",
    "\n",
    "Modify the code to load a CSV file with real or simulated football game data (e.g., columns: team_points, opponent_points_allowed, win). Create a new feature, like the difference between team points and opponent points allowed in the last 3 games. Train the model with this feature and compare its accuracy to the original model.\n",
    "Hint: Use pandas.read_csv() to load data and compute the difference as avg_team_points - avg_opponent_points_allowed."
   ]
  },
  {
   "cell_type": "code",
   "execution_count": 3,
   "id": "2776e6e9",
   "metadata": {},
   "outputs": [],
   "source": [
    "# Your code here"
   ]
  },
  {
   "cell_type": "markdown",
   "id": "b1da9c4c",
   "metadata": {},
   "source": [
    "**Feature Engineering Assignment**\n",
    "\n",
    "Add a new time series feature, such as the team’s win streak (number of consecutive wins before the current game). Update the code to include this feature in the Naive Bayes model. Test if it improves accuracy.\n",
    "Hint: Loop through the wins array to count consecutive 1s before each game."
   ]
  },
  {
   "cell_type": "code",
   "execution_count": 4,
   "id": "c37a2ea1",
   "metadata": {},
   "outputs": [],
   "source": [
    "# Your code here"
   ]
  },
  {
   "cell_type": "markdown",
   "id": "5c111779",
   "metadata": {},
   "source": [
    "**Model Comparison Assignment**\n",
    "\n",
    "Replace the Gaussian Naive Bayes model with a different classifier, like Logistic Regression (sklearn.linear_model.LogisticRegression). Compare the accuracy of both models on the same data. Write a short explanation (in a text file) of why one might perform better.\n",
    "Hint: Use sklearn.linear_model.LogisticRegression and ensure the same train-test split for fair comparison."
   ]
  },
  {
   "cell_type": "code",
   "execution_count": 5,
   "id": "e783bc07",
   "metadata": {},
   "outputs": [],
   "source": [
    "# Your code here"
   ]
  },
  {
   "cell_type": "code",
   "execution_count": null,
   "id": "413ba3f9",
   "metadata": {},
   "outputs": [],
   "source": []
  }
 ],
 "metadata": {
  "kernelspec": {
   "display_name": "Python 3 (ipykernel)",
   "language": "python",
   "name": "python3"
  },
  "language_info": {
   "codemirror_mode": {
    "name": "ipython",
    "version": 3
   },
   "file_extension": ".py",
   "mimetype": "text/x-python",
   "name": "python",
   "nbconvert_exporter": "python",
   "pygments_lexer": "ipython3",
   "version": "3.8.18"
  }
 },
 "nbformat": 4,
 "nbformat_minor": 5
}
