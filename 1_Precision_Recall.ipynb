{
 "cells": [
  {
   "cell_type": "code",
   "execution_count": 1,
   "id": "9fd7b89d",
   "metadata": {},
   "outputs": [],
   "source": [
    "import pandas as pd\n",
    "import numpy as np"
   ]
  },
  {
   "cell_type": "code",
   "execution_count": 2,
   "id": "838932a5",
   "metadata": {},
   "outputs": [],
   "source": [
    "# Set random seed for reproducibility\n",
    "np.random.seed(42)"
   ]
  },
  {
   "cell_type": "code",
   "execution_count": 3,
   "id": "56dfc387",
   "metadata": {},
   "outputs": [
    {
     "name": "stdout",
     "output_type": "stream",
     "text": [
      "    true_positive  false_positive  false_negative\n",
      "0               0               0               1\n",
      "1               1               0               0\n",
      "2               0               0               1\n",
      "3               0               0               1\n",
      "4               1               0               0\n",
      "5               1               0               0\n",
      "6               0               0               1\n",
      "7               0               1               0\n",
      "8               0               0               1\n",
      "9               0               0               1\n",
      "10              0               0               1\n",
      "11              0               0               1\n",
      "12              1               0               0\n",
      "13              0               0               1\n",
      "14              0               1               0\n",
      "15              1               0               0\n",
      "16              0               1               0\n",
      "17              0               1               0\n",
      "18              0               1               0\n",
      "19              0               1               0\n",
      "20              1               0               0\n",
      "21              1               0               0\n",
      "22              0               1               0\n",
      "23              0               1               0\n",
      "24              1               0               0\n",
      "25              1               0               0\n",
      "26              1               0               0\n",
      "27              0               0               1\n",
      "28              0               0               1\n",
      "29              0               0               1\n",
      "30              0               1               0\n",
      "31              0               0               1\n",
      "32              0               1               0\n",
      "33              0               1               0\n",
      "34              0               0               1\n",
      "35              0               1               0\n",
      "36              0               0               1\n",
      "37              0               0               1\n",
      "38              1               0               0\n",
      "39              0               0               1\n",
      "40              1               0               0\n",
      "41              0               0               1\n",
      "42              0               0               1\n",
      "43              1               0               0\n",
      "44              1               0               0\n",
      "45              0               0               1\n",
      "46              0               1               0\n",
      "47              1               0               0\n",
      "48              0               1               0\n",
      "49              0               1               0\n"
     ]
    }
   ],
   "source": [
    "# Initialize an empty list to store rows\n",
    "rows = []\n",
    "\n",
    "for _ in range(50):\n",
    "    row = [0, 0, 0]  # Start with all zeros\n",
    "    idx = np.random.choice([0, 1, 2])  # Randomly choose one column to set to 1\n",
    "    row[idx] = 1\n",
    "    rows.append(row)\n",
    "\n",
    "# Create DataFrame\n",
    "df = pd.DataFrame(rows, columns=['true_positive', 'false_positive', 'false_negative'])\n",
    "\n",
    "print(df)"
   ]
  },
  {
   "cell_type": "code",
   "execution_count": null,
   "id": "7c6fd4c3",
   "metadata": {},
   "outputs": [],
   "source": [
    "# Write a code to calculate precision\n"
   ]
  },
  {
   "cell_type": "code",
   "execution_count": null,
   "id": "0074f3ad",
   "metadata": {},
   "outputs": [],
   "source": [
    "# Write a code to calculate recall\n"
   ]
  },
  {
   "cell_type": "code",
   "execution_count": null,
   "id": "7bd87e77",
   "metadata": {},
   "outputs": [],
   "source": [
    "# Write a code to calculate F1-score"
   ]
  },
  {
   "cell_type": "code",
   "execution_count": null,
   "id": "0d0675d3",
   "metadata": {},
   "outputs": [],
   "source": [
    "# Write code to calculate prevelance\n",
    "# Prevalence = (True Positives + False Negatives) / Total population i.e Prevalence = (True Positives + False Negatives) / (True Positives + False Positives + True Negatives + False Negatives)\n",
    "# I have not provided True Negatives in the dataframe above, you can add your own column for that.\n",
    "\n"
   ]
  },
  {
   "cell_type": "markdown",
   "id": "833e0cf3",
   "metadata": {},
   "source": [
    "**Specificity**, also known as the True Negative Rate (TNR), is a metric used to evaluate the performance of a classification model. It measures the proportion of actual negative cases that are correctly identified by the model. In simpler terms, it's the model's ability to avoid false alarms.\n",
    "\n",
    "\n",
    "**How to Interpret Specificity**\n",
    "High Specificity: A model with high specificity is very good at identifying negative cases. This means it has a low False Positive Rate (FPR). For example, in a medical test for a disease, high specificity means the test rarely gives a positive result to a person who doesn't have the disease, reducing unnecessary anxiety and follow-up treatments.\n",
    "\n",
    "\n",
    "**Low Specificity:** A low specificity indicates the model frequently misclassifies negative cases as positive, leading to a high number of false positives.\n"
   ]
  },
  {
   "cell_type": "code",
   "execution_count": null,
   "id": "42a4149c",
   "metadata": {},
   "outputs": [],
   "source": [
    "# Can you write a code to calculate specificity?\n"
   ]
  }
 ],
 "metadata": {
  "kernelspec": {
   "display_name": "Python 3 (ipykernel)",
   "language": "python",
   "name": "python3"
  },
  "language_info": {
   "codemirror_mode": {
    "name": "ipython",
    "version": 3
   },
   "file_extension": ".py",
   "mimetype": "text/x-python",
   "name": "python",
   "nbconvert_exporter": "python",
   "pygments_lexer": "ipython3",
   "version": "3.8.18"
  }
 },
 "nbformat": 4,
 "nbformat_minor": 5
}
