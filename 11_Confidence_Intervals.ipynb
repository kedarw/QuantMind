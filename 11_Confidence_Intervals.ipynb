{
 "cells": [
  {
   "cell_type": "markdown",
   "id": "964cb80a",
   "metadata": {},
   "source": [
    "Let's break down confidence intervals with opinion polls simply and then dive into some Python fun!\n",
    "\n",
    "What's a Confidence Interval? 🤔\n",
    "Imagine you want to know how many high schoolers prefer pizza over burgers. You can't ask every single high schooler in the world, right? That would take forever! So, you take a sample – maybe ask 100 high schoolers.\n",
    "\n",
    "Let's say in your sample of 100, 60% say they prefer pizza. Now, you might think, \"Great! 60% of all high schoolers prefer pizza.\" But is it exactly 60%? Probably not. Your sample is just a snapshot.\n",
    "\n",
    "A confidence interval is like saying, \"We're pretty sure the true percentage of all high schoolers who prefer pizza is somewhere between X% and Y%.\" It gives you a range, not just a single number.\n",
    "\n",
    "Think of it like this: You throw a dart at a dartboard. You might not hit the bullseye every time, but you can say, \"I'm 95% confident my dart will land within this big circle around the bullseye.\" The big circle is your confidence interval.\n",
    "\n",
    "So, for our pizza example, we might say, \"We're 95% confident that between 50% and 70% of all high schoolers prefer pizza.\" This means if we took many, many samples, 95% of the confidence intervals we calculated would contain the true percentage of pizza lovers.\n",
    "\n",
    "Key takeaway: A confidence interval gives us a range where we're pretty sure the true value lies, based on our sample."
   ]
  },
  {
   "cell_type": "code",
   "execution_count": null,
   "id": "375b3b58",
   "metadata": {},
   "outputs": [],
   "source": [
    "! pip install statsmodels"
   ]
  },
  {
   "cell_type": "code",
   "execution_count": 2,
   "id": "dda2ddbb",
   "metadata": {},
   "outputs": [
    {
     "ename": "ModuleNotFoundError",
     "evalue": "No module named 'statsmodels'",
     "output_type": "error",
     "traceback": [
      "\u001b[0;31m---------------------------------------------------------------------------\u001b[0m",
      "\u001b[0;31mModuleNotFoundError\u001b[0m                       Traceback (most recent call last)",
      "Cell \u001b[0;32mIn[2], line 6\u001b[0m\n\u001b[1;32m      4\u001b[0m \u001b[38;5;28;01mimport\u001b[39;00m \u001b[38;5;21;01mnumpy\u001b[39;00m \u001b[38;5;28;01mas\u001b[39;00m \u001b[38;5;21;01mnp\u001b[39;00m\n\u001b[1;32m      5\u001b[0m \u001b[38;5;28;01mimport\u001b[39;00m \u001b[38;5;21;01mmatplotlib\u001b[39;00m\u001b[38;5;21;01m.\u001b[39;00m\u001b[38;5;21;01mpyplot\u001b[39;00m \u001b[38;5;28;01mas\u001b[39;00m \u001b[38;5;21;01mplt\u001b[39;00m\n\u001b[0;32m----> 6\u001b[0m \u001b[38;5;28;01mimport\u001b[39;00m \u001b[38;5;21;01mstatsmodels\u001b[39;00m\u001b[38;5;21;01m.\u001b[39;00m\u001b[38;5;21;01mapi\u001b[39;00m \u001b[38;5;28;01mas\u001b[39;00m \u001b[38;5;21;01msm\u001b[39;00m\n\u001b[1;32m      8\u001b[0m \u001b[38;5;66;03m# Set a random seed for reproducibility\u001b[39;00m\n\u001b[1;32m      9\u001b[0m np\u001b[38;5;241m.\u001b[39mrandom\u001b[38;5;241m.\u001b[39mseed(\u001b[38;5;241m42\u001b[39m)\n",
      "\u001b[0;31mModuleNotFoundError\u001b[0m: No module named 'statsmodels'"
     ]
    }
   ],
   "source": [
    "#Python Example: Tracking Pizza Preference Over Time 🍕📈\n",
    "\n",
    "    \n",
    "import numpy as np\n",
    "import matplotlib.pyplot as plt\n",
    "import statsmodels.api as sm\n",
    "\n",
    "# Set a random seed for reproducibility\n",
    "np.random.seed(42)\n",
    "\n",
    "# --- Simulate our data ---\n",
    "# Imagine the true preference for pizza changes a little over time\n",
    "true_preference = 0.60 + 0.05 * np.sin(np.linspace(0, 2 * np.pi, 12)) # A little wiggle\n",
    "sample_size = 500 # Number of high schoolers we poll each month\n",
    "\n",
    "# Simulate monthly poll results\n",
    "# Number of high schoolers who prefer pizza\n",
    "pizza_lovers = np.random.binomial(n=sample_size, p=true_preference, size=12)\n",
    "# Percentage of high schoolers who prefer pizza in our sample\n",
    "sample_proportion = pizza_lovers / sample_size\n",
    "\n",
    "# --- Calculate Confidence Intervals ---\n",
    "# We'll use a 95% confidence level\n",
    "confidence_level = 0.95\n",
    "\n",
    "# Calculate the standard error for proportions\n",
    "# For a proportion p and sample size n, SE = sqrt(p*(1-p)/n)\n",
    "# We use a Z-score for a 95% confidence level (approx 1.96)\n",
    "z_score = 1.96 # This value comes from the standard normal distribution\n",
    "\n",
    "# Calculate lower and upper bounds of the confidence interval\n",
    "lower_bound = sample_proportion - z_score * np.sqrt(sample_proportion * (1 - sample_proportion) / sample_size)\n",
    "upper_bound = sample_proportion + z_score * np.sqrt(sample_proportion * (1 - sample_proportion) / sample_size)\n",
    "\n",
    "# --- Plotting the results ---\n",
    "months = np.arange(1, 13)\n",
    "\n",
    "plt.figure(figsize=(10, 6))\n",
    "plt.plot(months, sample_proportion, marker='o', linestyle='-', color='blue', label='Sampled Pizza Preference')\n",
    "plt.fill_between(months, lower_bound, upper_bound, color='lightblue', alpha=0.4, label='95% Confidence Interval')\n",
    "plt.plot(months, true_preference, linestyle='--', color='red', label='True (Simulated) Pizza Preference') # The true value we're trying to estimate\n",
    "\n",
    "plt.title('Monthly Pizza Preference Polls with 95% Confidence Interval', fontsize=14)\n",
    "plt.xlabel('Month', fontsize=12)\n",
    "plt.ylabel('Proportion Preferring Pizza', fontsize=12)\n",
    "plt.xticks(months)\n",
    "plt.ylim(0.45, 0.75) # Set limits for better visualization\n",
    "plt.grid(True, linestyle='--', alpha=0.7)\n",
    "plt.legend(fontsize=10)\n",
    "plt.tight_layout()\n",
    "plt.show()"
   ]
  },
  {
   "cell_type": "markdown",
   "id": "ef2752c7",
   "metadata": {},
   "source": [
    "\n",
    "Explanation of the Code:\n",
    "\n",
    "Simulating Data: We create true_preference which is the \"real\" (but unknown to us in a real scenario) percentage of high schoolers who prefer pizza each month. Then, we simulate taking a sample_size poll each month and getting pizza_lovers results, which gives us our sample_proportion.\n",
    "\n",
    "Calculating Confidence Interval:\n",
    "\n",
    "We use a confidence_level of 95%, which is very common.\n",
    "\n",
    "The z_score of 1.96 is a magic number for 95% confidence (it tells us how many standard deviations away from the mean we need to go to capture 95% of the data).\n",
    "\n",
    "We calculate the lower_bound and upper_bound of our interval using a formula that involves the sample_proportion, z_score, and sample_size. This formula is based on the idea that our sample proportion is an estimate of the true proportion, and we use the standard error to understand how much that estimate might vary.\n",
    "\n",
    "Plotting: The blue line shows what our poll actually found each month. The light blue shaded area is our 95% confidence interval for each month. The dashed red line is the \"true\" preference (which we only know because we simulated it!). Notice how most of the time, the true preference falls within our confidence interval. This shows that the confidence interval is doing its job!"
   ]
  },
  {
   "cell_type": "code",
   "execution_count": 5,
   "id": "89539b58",
   "metadata": {},
   "outputs": [],
   "source": [
    "# Hands-On Assignments "
   ]
  },
  {
   "cell_type": "markdown",
   "id": "9fe7547d",
   "metadata": {},
   "source": [
    "# Confidence Interval Assignment 🚀\n",
    "\n",
    "These assignments will help you get hands-on experience with confidence intervals using the provided Python code. Remember to run the Python code first to generate the plot before starting the assignments.\n",
    "\n",
    "---\n",
    "\n",
    "## Assignment 1: The Sample Size Effect 🤔\n",
    "\n",
    "**Goal:** Understand how the number of people you poll affects your confidence interval.\n",
    "\n",
    "1.  **Run the Python code above.** Observe the **width** of the light blue shaded area (the confidence interval).\n",
    "2.  **Change `sample_size` to `100`.** Rerun the code. What happens to the width of the confidence interval? Is it wider or narrower?\n",
    "3.  **Change `sample_size` to `1000`.** Rerun the code. What happens to the width of the confidence interval now?\n",
    "4.  **Discuss:** Why do you think increasing the sample size makes the confidence interval narrower? (Hint: Think about how much more certain you'd be if you asked 1000 people versus 100 people about their pizza preference.)\n",
    "\n",
    "---\n",
    "\n"
   ]
  },
  {
   "cell_type": "markdown",
   "id": "2c9085d9",
   "metadata": {},
   "source": [
    "## Assignment 2: The Confidence Level Effect 🎯\n",
    "\n",
    "**Goal:** Understand what the \"95%\" in \"95% confident\" means.\n",
    "\n",
    "1.  **Run the original Python code** with `sample_size = 500` and `confidence_level = 0.95`. Note how many of the red dashed line points fall *outside* the blue shaded area.\n",
    "2.  **Change `z_score` to `2.58`** (which corresponds to a **99% confidence level**). Rerun the code. Observe the interval width.\n",
    "3.  **Change `z_score` to `1.64`** (which corresponds to a **90% confidence level**). Rerun the code. Observe the interval width.\n",
    "4.  **Discuss:**\n",
    "    * When you **increased** the confidence level (e.g., to 99%), what happened to the width of the confidence interval? Why does being *more* confident require a *wider* range?\n",
    "    * When you **decreased** the confidence level (e.g., to 90%), what happened to the width? What's the **trade-off** here? Would you rather be 99% confident with a very wide range, or 90% confident with a narrower range?\n",
    "\n",
    "---"
   ]
  },
  {
   "cell_type": "markdown",
   "id": "717a7171",
   "metadata": {},
   "source": [
    "## Assignment 3: Real-World Poll Analysis 📰\n",
    "\n",
    "**Goal:** Apply your understanding to a real-world scenario (even if simulated).\n",
    "\n",
    "1.  Imagine you are a news reporter and you just received the `sample_proportion` and the `lower_bound`/`upper_bound` for *one* month (let's say Month 7 from our simulated data).\n",
    "2.  **Pick a specific month** (e.g., Month 7) from the output of your Python code.\n",
    "    * What was the **`sample_proportion`** for that month?\n",
    "    * What was the **95% confidence interval** for that month? (You'll need to look at the numbers generated by the Python code for that specific month.)\n",
    "3.  **Write a short news headline and a one-sentence news report** based *only* on the **confidence interval** for that month. For example, if your interval was `[0.55, 0.65]`, you might write:\n",
    "\n",
    "    * **Headline:** \"New Poll Shows Majority of High Schoolers Favor Pizza!\"\n",
    "    * **Report:** \"A recent survey indicates that between 55% and 65% of high school students prefer pizza, with 95% confidence.\"\n",
    "\n",
    "4.  **Reflect:** How does the confidence interval give a more **complete picture** than just reporting the `sample_proportion` alone? Why is this important for **accurate reporting**?"
   ]
  },
  {
   "cell_type": "code",
   "execution_count": null,
   "id": "fe608592",
   "metadata": {},
   "outputs": [],
   "source": []
  }
 ],
 "metadata": {
  "kernelspec": {
   "display_name": "Python 3 (ipykernel)",
   "language": "python",
   "name": "python3"
  },
  "language_info": {
   "codemirror_mode": {
    "name": "ipython",
    "version": 3
   },
   "file_extension": ".py",
   "mimetype": "text/x-python",
   "name": "python",
   "nbconvert_exporter": "python",
   "pygments_lexer": "ipython3",
   "version": "3.8.18"
  }
 },
 "nbformat": 4,
 "nbformat_minor": 5
}
